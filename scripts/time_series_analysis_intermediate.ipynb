{
 "cells": [
  {
   "cell_type": "markdown",
   "metadata": {},
   "source": [
    "# Time Series Analysis - Intermediate Models\n",
    "\n",
    "Now that we have estimated ARMA models using our oil price futures, we look at more advanced time series models. In the time_series_analysis_basic notebook, we observed that the residuals of the individual oil futures prices do not have homoskedastic residuals. This motivates the use of (G)ARCH models, which are used to model time series with time-varying volatility and volatility clustering. "
   ]
  },
  {
   "cell_type": "markdown",
   "metadata": {},
   "source": [
    "### GARCH Models\n",
    "Financial time series of often exhibits heteroskedastic errors. The variance at time $t$ is often related to the squares of previous errors. The models in this section are used to describe clustered, fat-tailed variance of errors.\n",
    "\n",
    "The ARCH (Autoregressive Conditional Heteroskedasticity) model uses an AR model for errors, while the GARCH (Generalized ARCH) model uses an ARMA model of these errors."
   ]
  },
  {
   "cell_type": "markdown",
   "metadata": {},
   "source": [
    "If the process $\\{y_t\\}^T_{t=1}$ follows an ARMA progess with GARCH errors, then we may apply a two-step estimation method using OLS. First, we find an ARMA model for the process $\\{y_t\\}$, and obtain the residuals $\\{e_t\\}^T_{t=1}$. Then, we estimage the parameters of the GARCH models by finding an ARMA model for te series $\\{e_t^2\\}^T_{t=1}$ of squared residuals.\n",
    "\n",
    "As an example of the AR(1)-ARCH model: \n",
    "1. Regress $y_t$ on a constant and $y_{t-1}$, then find the model residuals $e_t$.\n",
    "2. Square residuals $e_t$ to get $e_t^2$, then regress these on a constant and $e_{t-1}^2$.\n",
    "\n",
    "This method provides consistent estimates, but are inefficient because we have non-normally distributed error terms.\n",
    "\n",
    "Source: Heij, Christiaan, and others, Econometric Methods with Applications in Business and Economics (Oxford, 2004; online edn, Oxford Academic, 31 Oct. 2023)\n"
   ]
  },
  {
   "cell_type": "code",
   "execution_count": null,
   "metadata": {
    "vscode": {
     "languageId": "plaintext"
    }
   },
   "outputs": [],
   "source": []
  }
 ],
 "metadata": {
  "language_info": {
   "name": "python"
  }
 },
 "nbformat": 4,
 "nbformat_minor": 2
}
