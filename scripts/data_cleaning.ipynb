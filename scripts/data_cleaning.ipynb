{
 "cells": [
  {
   "cell_type": "code",
   "execution_count": 54,
   "metadata": {},
   "outputs": [
    {
     "name": "stderr",
     "output_type": "stream",
     "text": [
      "C:\\Users\\berma\\AppData\\Local\\Temp\\ipykernel_11716\\1825659588.py:9: UserWarning: Could not infer format, so each element will be parsed individually, falling back to `dateutil`. To ensure parsing is consistent and as-expected, please specify a format.\n",
      "  DATA_WTI['Date'] = pd.to_datetime(DATA_WTI['Date'], errors='coerce')\n",
      "C:\\Users\\berma\\AppData\\Local\\Temp\\ipykernel_11716\\1825659588.py:10: UserWarning: Could not infer format, so each element will be parsed individually, falling back to `dateutil`. To ensure parsing is consistent and as-expected, please specify a format.\n",
      "  DATA_BRENT['Date'] = pd.to_datetime(DATA_BRENT['Date'], errors='coerce')\n"
     ]
    },
    {
     "name": "stdout",
     "output_type": "stream",
     "text": [
      "        Date  Change_WTI  Change_Brent  Change_Dubai\n",
      "0 2000-01-02        2.10          1.62           NaN\n",
      "1 2000-01-03        4.40          3.45           NaN\n",
      "2 2000-01-05        0.51           NaN           NaN\n",
      "3 2000-01-06        3.90          3.11           NaN\n",
      "4 2000-01-08        1.31          0.78           NaN\n"
     ]
    },
    {
     "name": "stderr",
     "output_type": "stream",
     "text": [
      "C:\\Users\\berma\\AppData\\Local\\Temp\\ipykernel_11716\\1825659588.py:11: UserWarning: Parsing dates in %d/%m/%Y format when dayfirst=False (the default) was specified. Pass `dayfirst=True` or specify a format to silence this warning.\n",
      "  DATA_DUBAI['Date'] = pd.to_datetime(DATA_DUBAI['Date'], errors='coerce')\n"
     ]
    }
   ],
   "source": [
    "import pandas as pd\n",
    "\n",
    "# Load datasets\n",
    "DATA_WTI = pd.read_csv(\"../Datasets/Futures_Oil_WTI.csv\", header=0)\n",
    "DATA_BRENT = pd.read_csv(\"../Datasets/Futures_Oil_Brent.csv\", header=0)\n",
    "DATA_DUBAI = pd.read_csv(\"../Datasets/Futures_Oil_Dubai.csv\", header=0)\n",
    "\n",
    "# Ensure the Date columns are parsed correctly\n",
    "DATA_WTI['Date'] = pd.to_datetime(DATA_WTI['Date'], errors='coerce')\n",
    "DATA_BRENT['Date'] = pd.to_datetime(DATA_BRENT['Date'], errors='coerce')\n",
    "DATA_DUBAI['Date'] = pd.to_datetime(DATA_DUBAI['Date'], errors='coerce')\n",
    "\n",
    "# Perform full outer join on the Date column\n",
    "combined_data = (\n",
    "    DATA_WTI[['Date', 'Change %']]\n",
    "    .rename(columns={'Change %': 'Change_WTI'})\n",
    "    .merge(\n",
    "        DATA_BRENT[['Date', 'Change %']].rename(columns={'Change %': 'Change_Brent'}),\n",
    "        on='Date',\n",
    "        how='outer'\n",
    "    )\n",
    "    .merge(\n",
    "        DATA_DUBAI[['Date', 'Change %']].rename(columns={'Change %': 'Change_Dubai'}),\n",
    "        on='Date',\n",
    "        how='outer'\n",
    "    )\n",
    ")\n",
    "\n",
    "# Remove '%' from Change % columns and convert to numeric\n",
    "for column in ['Change_WTI', 'Change_Brent', 'Change_Dubai']:\n",
    "    combined_data[column] = (\n",
    "        combined_data[column]\n",
    "        .str.replace('%', '', regex=False)  # Remove '%' symbol\n",
    "        .str.strip()  # Remove leading/trailing spaces\n",
    "        .astype(float)  # Convert to numeric\n",
    "    )\n",
    "\n",
    "# Sort by Date\n",
    "combined_data = combined_data.sort_values(by='Date')\n",
    "\n",
    "# Display the first few rows\n",
    "print(combined_data.head())\n",
    "\n",
    "# Save combined data to CSV if needed\n",
    "combined_data.to_csv(\"../Datasets/Futures_Oil_Combined.csv\", index=False)\n"
   ]
  }
 ],
 "metadata": {
  "kernelspec": {
   "display_name": ".venv",
   "language": "python",
   "name": "python3"
  },
  "language_info": {
   "codemirror_mode": {
    "name": "ipython",
    "version": 3
   },
   "file_extension": ".py",
   "mimetype": "text/x-python",
   "name": "python",
   "nbconvert_exporter": "python",
   "pygments_lexer": "ipython3",
   "version": "3.12.0"
  }
 },
 "nbformat": 4,
 "nbformat_minor": 2
}
