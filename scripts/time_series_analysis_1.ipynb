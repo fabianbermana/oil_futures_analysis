{
 "cells": [
  {
   "cell_type": "markdown",
   "metadata": {},
   "source": [
    "# Time Series Analysis - Part 1\n",
    "\n",
    "Financial price data can be represented as a time-indexed random process. It is reasonable to say that the price of oil today depends quite strongly on its price yesterday, as while real-world conditions are always changing, the condition of the world tomorrow will be very correlated to how it is today. As such, we aim to understand, model, and predict the movements in oil prices using econometric time series models.\n",
    "\n",
    "For this notebook, we do our initial analysis of the data using time series models:\n",
    "\n",
    "1. Plotting Autocorrelation Graphs:\n",
    "We start by visualizing the sample autocorrelation of our data. We expect financial time series to be non-stationary, i.e. having time-varying mean and variance, or a unit root.\n",
    "\n",
    "2. Testing for Stationarity: Apply tests for stationarity of the time series. We rely on the well-known Augmented Dickey Fuller (ADF) test. If stationarity shows up (which is highly likely), we will need to do differencing or observe log values (which is standard for price data).\n",
    "\n",
    "3. Fitting Basic Models: We will look at ARIMA models, choose them based on criteria such as predictive performance (MSE) or information criteria. Then, we run tests on the residuals to see whether the models are well suited for the data."
   ]
  },
  {
   "cell_type": "markdown",
   "metadata": {},
   "source": [
    "### Imports and Initialization"
   ]
  },
  {
   "cell_type": "code",
   "execution_count": 11,
   "metadata": {},
   "outputs": [],
   "source": [
    "import pandas as pd\n",
    "import numpy as np\n",
    "import matplotlib.pyplot as plt\n",
    "from statsmodels.tsa.stattools import acf, adfuller\n"
   ]
  },
  {
   "cell_type": "code",
   "execution_count": 12,
   "metadata": {},
   "outputs": [
    {
     "data": {
      "text/html": [
       "<div>\n",
       "<style scoped>\n",
       "    .dataframe tbody tr th:only-of-type {\n",
       "        vertical-align: middle;\n",
       "    }\n",
       "\n",
       "    .dataframe tbody tr th {\n",
       "        vertical-align: top;\n",
       "    }\n",
       "\n",
       "    .dataframe thead th {\n",
       "        text-align: right;\n",
       "    }\n",
       "</style>\n",
       "<table border=\"1\" class=\"dataframe\">\n",
       "  <thead>\n",
       "    <tr style=\"text-align: right;\">\n",
       "      <th></th>\n",
       "      <th>Date</th>\n",
       "      <th>Change_WTI</th>\n",
       "      <th>Price_WTI</th>\n",
       "      <th>Vol_WTI</th>\n",
       "      <th>Change_Brent</th>\n",
       "      <th>Price_Brent</th>\n",
       "      <th>Vol_Brent</th>\n",
       "      <th>Change_Dubai</th>\n",
       "      <th>Price_Dubai</th>\n",
       "      <th>Vol_Dubai</th>\n",
       "    </tr>\n",
       "  </thead>\n",
       "  <tbody>\n",
       "    <tr>\n",
       "      <th>0</th>\n",
       "      <td>2000-01-04</td>\n",
       "      <td>-0.0020</td>\n",
       "      <td>25.55</td>\n",
       "      <td>74.79K</td>\n",
       "      <td>-0.0275</td>\n",
       "      <td>24.39</td>\n",
       "      <td>32.51K</td>\n",
       "      <td>NaN</td>\n",
       "      <td>NaN</td>\n",
       "      <td>NaN</td>\n",
       "    </tr>\n",
       "    <tr>\n",
       "      <th>1</th>\n",
       "      <td>2000-01-05</td>\n",
       "      <td>-0.0250</td>\n",
       "      <td>24.91</td>\n",
       "      <td>70.94K</td>\n",
       "      <td>-0.0271</td>\n",
       "      <td>23.73</td>\n",
       "      <td>30.31K</td>\n",
       "      <td>NaN</td>\n",
       "      <td>NaN</td>\n",
       "      <td>NaN</td>\n",
       "    </tr>\n",
       "    <tr>\n",
       "      <th>2</th>\n",
       "      <td>2000-01-06</td>\n",
       "      <td>-0.0052</td>\n",
       "      <td>24.78</td>\n",
       "      <td>85.25K</td>\n",
       "      <td>-0.0046</td>\n",
       "      <td>23.62</td>\n",
       "      <td>44.66K</td>\n",
       "      <td>NaN</td>\n",
       "      <td>NaN</td>\n",
       "      <td>NaN</td>\n",
       "    </tr>\n",
       "    <tr>\n",
       "      <th>3</th>\n",
       "      <td>2000-01-07</td>\n",
       "      <td>-0.0226</td>\n",
       "      <td>24.22</td>\n",
       "      <td>91.83K</td>\n",
       "      <td>-0.0224</td>\n",
       "      <td>23.09</td>\n",
       "      <td>34.83K</td>\n",
       "      <td>NaN</td>\n",
       "      <td>NaN</td>\n",
       "      <td>NaN</td>\n",
       "    </tr>\n",
       "    <tr>\n",
       "      <th>4</th>\n",
       "      <td>2000-01-10</td>\n",
       "      <td>0.0186</td>\n",
       "      <td>24.67</td>\n",
       "      <td>68.90K</td>\n",
       "      <td>0.0277</td>\n",
       "      <td>23.73</td>\n",
       "      <td>26.39K</td>\n",
       "      <td>NaN</td>\n",
       "      <td>NaN</td>\n",
       "      <td>NaN</td>\n",
       "    </tr>\n",
       "    <tr>\n",
       "      <th>...</th>\n",
       "      <td>...</td>\n",
       "      <td>...</td>\n",
       "      <td>...</td>\n",
       "      <td>...</td>\n",
       "      <td>...</td>\n",
       "      <td>...</td>\n",
       "      <td>...</td>\n",
       "      <td>...</td>\n",
       "      <td>...</td>\n",
       "      <td>...</td>\n",
       "    </tr>\n",
       "    <tr>\n",
       "      <th>6478</th>\n",
       "      <td>2024-11-25</td>\n",
       "      <td>-0.0323</td>\n",
       "      <td>68.94</td>\n",
       "      <td>380.92K</td>\n",
       "      <td>-0.0217</td>\n",
       "      <td>73.01</td>\n",
       "      <td>282.16K</td>\n",
       "      <td>-0.0064</td>\n",
       "      <td>72.60</td>\n",
       "      <td>NaN</td>\n",
       "    </tr>\n",
       "    <tr>\n",
       "      <th>6479</th>\n",
       "      <td>2024-11-26</td>\n",
       "      <td>-0.0025</td>\n",
       "      <td>68.77</td>\n",
       "      <td>292.14K</td>\n",
       "      <td>-0.0027</td>\n",
       "      <td>72.81</td>\n",
       "      <td>200.70K</td>\n",
       "      <td>0.0000</td>\n",
       "      <td>72.60</td>\n",
       "      <td>NaN</td>\n",
       "    </tr>\n",
       "    <tr>\n",
       "      <th>6480</th>\n",
       "      <td>2024-11-27</td>\n",
       "      <td>-0.0007</td>\n",
       "      <td>68.72</td>\n",
       "      <td>227.22K</td>\n",
       "      <td>0.0003</td>\n",
       "      <td>72.83</td>\n",
       "      <td>106.53K</td>\n",
       "      <td>0.0000</td>\n",
       "      <td>72.60</td>\n",
       "      <td>NaN</td>\n",
       "    </tr>\n",
       "    <tr>\n",
       "      <th>6481</th>\n",
       "      <td>2024-11-28</td>\n",
       "      <td>NaN</td>\n",
       "      <td>NaN</td>\n",
       "      <td>NaN</td>\n",
       "      <td>0.0062</td>\n",
       "      <td>73.28</td>\n",
       "      <td>49.82K</td>\n",
       "      <td>NaN</td>\n",
       "      <td>NaN</td>\n",
       "      <td>NaN</td>\n",
       "    </tr>\n",
       "    <tr>\n",
       "      <th>6482</th>\n",
       "      <td>2024-11-29</td>\n",
       "      <td>-0.0105</td>\n",
       "      <td>68.00</td>\n",
       "      <td>291.41K</td>\n",
       "      <td>-0.0046</td>\n",
       "      <td>72.94</td>\n",
       "      <td>23.33K</td>\n",
       "      <td>0.0003</td>\n",
       "      <td>72.62</td>\n",
       "      <td>NaN</td>\n",
       "    </tr>\n",
       "  </tbody>\n",
       "</table>\n",
       "<p>6483 rows × 10 columns</p>\n",
       "</div>"
      ],
      "text/plain": [
       "           Date  Change_WTI  Price_WTI  Vol_WTI  Change_Brent  Price_Brent  \\\n",
       "0    2000-01-04     -0.0020      25.55   74.79K       -0.0275        24.39   \n",
       "1    2000-01-05     -0.0250      24.91   70.94K       -0.0271        23.73   \n",
       "2    2000-01-06     -0.0052      24.78   85.25K       -0.0046        23.62   \n",
       "3    2000-01-07     -0.0226      24.22   91.83K       -0.0224        23.09   \n",
       "4    2000-01-10      0.0186      24.67   68.90K        0.0277        23.73   \n",
       "...         ...         ...        ...      ...           ...          ...   \n",
       "6478 2024-11-25     -0.0323      68.94  380.92K       -0.0217        73.01   \n",
       "6479 2024-11-26     -0.0025      68.77  292.14K       -0.0027        72.81   \n",
       "6480 2024-11-27     -0.0007      68.72  227.22K        0.0003        72.83   \n",
       "6481 2024-11-28         NaN        NaN      NaN        0.0062        73.28   \n",
       "6482 2024-11-29     -0.0105      68.00  291.41K       -0.0046        72.94   \n",
       "\n",
       "     Vol_Brent  Change_Dubai  Price_Dubai Vol_Dubai  \n",
       "0       32.51K           NaN          NaN       NaN  \n",
       "1       30.31K           NaN          NaN       NaN  \n",
       "2       44.66K           NaN          NaN       NaN  \n",
       "3       34.83K           NaN          NaN       NaN  \n",
       "4       26.39K           NaN          NaN       NaN  \n",
       "...        ...           ...          ...       ...  \n",
       "6478   282.16K       -0.0064        72.60       NaN  \n",
       "6479   200.70K        0.0000        72.60       NaN  \n",
       "6480   106.53K        0.0000        72.60       NaN  \n",
       "6481    49.82K           NaN          NaN       NaN  \n",
       "6482    23.33K        0.0003        72.62       NaN  \n",
       "\n",
       "[6483 rows x 10 columns]"
      ]
     },
     "metadata": {},
     "output_type": "display_data"
    }
   ],
   "source": [
    "COMBINED_DATA = (\n",
    "    pd.read_csv(\"../Datasets/Futures_Oil_Combined.csv\")\n",
    ")\n",
    "\n",
    "# done to ensure the Date column is parsed properly\n",
    "COMBINED_DATA['Date'] = pd.to_datetime(COMBINED_DATA['Date'])\n",
    "\n",
    "display(COMBINED_DATA)"
   ]
  },
  {
   "cell_type": "markdown",
   "metadata": {},
   "source": [
    "### Autocorrelation Plot\n",
    "\n",
    "The autocorrelation function (ACF) of a time series is the Pearson correlation between values of the data at different time lags. Intuitively, the ACF represents how similar the observations of a time series at time $t$ are with their observations at time $t-k$, i.e. its own values $k$ steps back.\n",
    "\n",
    "Denoting the dataset as $\\{{X_t}\\}_{t=0}^{T}$, then the estimated autocorrelation for lag $k$ is:\n",
    "\n",
    "\\begin{equation}\n",
    "    \\hat{R}(k) = \\frac{1}{(n - k)\\sigma^2} \\Sigma^{n-k}_{t=1} (X_t - \\mu)(X_{t+k} - \\mu)\n",
    "\\end{equation}\n",
    "\n",
    "Where \\mu is the sample mean, \\sigma^2 the sample variance."
   ]
  },
  {
   "cell_type": "code",
   "execution_count": 13,
   "metadata": {},
   "outputs": [
    {
     "data": {
      "image/png": "[encoded data removed]",
      "text/plain": [
       "<Figure size 1000x600 with 1 Axes>"
      ]
     },
     "metadata": {},
     "output_type": "display_data"
    }
   ],
   "source": [
    "def plot_oil_acf(data_acf):\n",
    "    fig, ax = plt.subplots(figsize=(10, 6))\n",
    "\n",
    "    # Colors and line styles for each time series\n",
    "    colors = ['blue', 'orange', 'green']\n",
    "    linestyles = ['-', '--', '-.']\n",
    "\n",
    "    # Plot autocorrelation for each time series\n",
    "    for idx, colname in enumerate(['Price_Brent', 'Price_WTI', 'Price_Dubai']):\n",
    "        time_series = data_acf[colname].dropna()\n",
    "        \n",
    "        # Compute autocorrelations using ACF\n",
    "        autocorr = acf(time_series, nlags=365)\n",
    "        \n",
    "        # Plot the autocorrelation with a specific color and linestyle\n",
    "        ax.plot(autocorr, label=colname, color=colors[idx], linestyle=linestyles[idx])\n",
    "\n",
    "    # Add labels and title\n",
    "    ax.set_xlabel('Lag')\n",
    "    ax.set_ylabel('Autocorrelation')\n",
    "    ax.set_title('Autocorrelation of Price Time Series (Brent, WTI, Dubai)', fontsize=14)\n",
    "    ax.legend(title='Time Series', loc='upper right')\n",
    "\n",
    "    # Add grid for better readability\n",
    "    ax.grid(True)\n",
    "\n",
    "    # Adjust layout\n",
    "    plt.tight_layout()\n",
    "\n",
    "    # Show the plot\n",
    "    plt.show()\n",
    "\n",
    "# plot all data\n",
    "data_acf_all = (\n",
    "    COMBINED_DATA\n",
    "    .copy()\n",
    ")\n",
    "\n",
    "plot_oil_acf(data_acf_all)\n",
    "\n"
   ]
  },
  {
   "cell_type": "markdown",
   "metadata": {},
   "source": [
    "We observe similar ACF plots of the Brent and WTI oil futures, when we decide to plot the autocorrelation of each time series while keeping all the data. However, the Dubai futures plot has a completely different shape. Need to investigate this further, or decide to exclude it from the analysis."
   ]
  },
  {
   "cell_type": "markdown",
   "metadata": {},
   "source": [
    "This prompts us to have a look at the raw data again. After investigating further, we found that the data source provides us with WTI and Brent data from 01 Jan 2000, but the Dubai series only starts from 28 April 2018."
   ]
  },
  {
   "cell_type": "code",
   "execution_count": 14,
   "metadata": {},
   "outputs": [
    {
     "data": {
      "image/png": "[encoded data removed]",
      "text/plain": [
       "<Figure size 1000x600 with 1 Axes>"
      ]
     },
     "metadata": {},
     "output_type": "display_data"
    }
   ],
   "source": [
    "# before plotting all data\n",
    "# drop all nan cols\n",
    "data_acf = (\n",
    "    COMBINED_DATA\n",
    "    .copy()\n",
    "    .dropna()\n",
    ")\n",
    "\n",
    "plot_oil_acf(data_acf)"
   ]
  },
  {
   "cell_type": "markdown",
   "metadata": {},
   "source": [
    "If we drop all nan values before plotting, i.e. keeping only data points where all three oil futures are not nan values, we see that the autocorrelation plots are very similar for all three oil futures. This is more of what we would expect to see, as all three are used as benchmarks for 'very similar' commodities."
   ]
  },
  {
   "cell_type": "markdown",
   "metadata": {},
   "source": [
    "Interpretation of Autocorrelation Plot:\n",
    "- Very high (close to 1.0) autocorrelations for lag 1, decreasing towards zero and even negative values at around lag 8.\n",
    "- Indication of trends or seasonality in the data.\n",
    "- The decay of the lag suggests non-stationarity in the time series (which is expected for financial price data).\n",
    "- We do not see repeating peaks or cycles, so seasonality might not be the case."
   ]
  },
  {
   "cell_type": "markdown",
   "metadata": {},
   "source": [
    "### Testing for Stationarity\n",
    "- Stationarity is a fundamental assumption for many time series models, including the well-known ARIMA, GARCH, and VAR. \n",
    "- If the series is not stationary, testing for autocorrelation may lead to false conclusions, as trends or seasonality can artificially inflate correlations.\n",
    "- Non-stationarity: time-varying mean or variance, violating the assumptions of many statistical tools.\n",
    "\n",
    "We will test for stationarity in the raw price data, and the returns data (even though we expect returns to be already stationarity)."
   ]
  },
  {
   "cell_type": "markdown",
   "metadata": {},
   "source": [
    "### Augmented Dickey-Fuller (ADF) Test\n",
    "\n",
    "This test is used to check for the presence of a unit root. A linear stochastic process has a unit roof, if 1 is a root of the process's characteristic equation. When such a unit root is present, the process is non-stationary, but is not neccessarily trending. If the other roots of the characteristic equation are inside the unit circle, i.e. have an absolute value less than one, then the first difference of the process will be stationary. Otherwise the process will need to be differenced multiple times to become stationary: if there are $d$ unit roots, we will need to take $d$ differences to produce a stationary series.\n",
    "\n",
    "For the ADF test, we assume the following model for the time series $\\{ y_t \\}^T_{t=0}$:\n",
    "\n",
    "\\begin{equation*}\n",
    "    \\Delta y_t = \\alpha + \\beta_t + \\gamma y_{t-1} + \\delta_1 y_{t-1} + \\cdots + \\delta_{p} y_{t-p} + \\epsilon_t\n",
    "\\end{equation*}\n",
    "\n",
    "Where $\\alpha$ is a constant or vertical axis intercept term, $\\beta$ is a coefficient for the time trend, $\\gamma$ is the coefficient of the lagged level of $y$, $p$ the lag order of the autoregressive process, and $\\Delta$ is the single-time-step difference operator.\n",
    "\n",
    "The test hypotheses are:\n",
    "\n",
    "\\begin{align*}\n",
    "    H_0: & \\: \\gamma = 0 \\; \\text{and} \\; \\beta = 0\n",
    "    \\\\\n",
    "    H_1: & \\: \\gamma \\lt 0 \\; \\text{and} \\; \\beta \\neq 0\n",
    "\\end{align*}\n",
    "\n",
    "i.e. under the null hypothesis of a stochastic trend, the series $y_t$ is integrated of order 1, such that the added regressors $\\Delta y_t$ are all stationary. If the null hypothesis is rejected, then we have statistical evidence that the time series is stationary. \n",
    "\n",
    "The ADF test statistic has a non-standard distribution, as it is done over the residual term of the regression rather than the raw data.\n",
    "\n",
    "The intuition for the test is as follows:\n",
    "- If $y_t$ is stationary (or trend-stationary), then it has a tendency to return to a constant mean.\n",
    "- Large values will tend to be followed by smaller values (negative changes), and vice versa. \n",
    "- Hence, the level of the series will be a significant predictor of the next period's changes, and will have a negative coefficient such that it is inversely correlated to the current change.\n",
    "- On the other hand, if the series is integrated, then the positive and negative changes occur with probabilities that do not depend on the current level of the series, which is called a stochastic trend.\n",
    "- The ADF test also removes all the structural effects in the time series (the autocorrelation).\n",
    "\n",
    "\n",
    "Source:\n",
    "Heij, Christiaan, and others, Econometric Methods with Applications in Business and Economics (Oxford, 2004; online edn, Oxford Academic, 31 Oct. 2023)"
   ]
  },
  {
   "cell_type": "code",
   "execution_count": 15,
   "metadata": {},
   "outputs": [],
   "source": [
    "\n",
    "# Define a function to perform the ADF test\n",
    "def run_adf_test(series, column_name):\n",
    "    series = series.dropna()\n",
    "    adf_result = adfuller(series, maxlag=100, autolag='AIC')  # Autolag selects the best lag using AIC\n",
    "    print(f\"Results of ADF Test for {column_name}:\")\n",
    "    print(f'Lag Used: {adf_result[2]}')\n",
    "    print(f\"ADF Statistic: {adf_result[0]}\")\n",
    "    print(f\"p-value: {adf_result[1]}\")\n",
    "    print(\"Critical Values:\")\n",
    "    for key, value in adf_result[4].items():\n",
    "        print(f\"   {key}: {value}\")\n",
    "    if adf_result[1] <= 0.05:\n",
    "        print(f\"The null hypothesis is rejected. {column_name} is stationary.\\n\")\n",
    "    else:\n",
    "        print(f\"Failed to reject the null hypothesis. {column_name} is non-stationary.\\n\")\n",
    "\n"
   ]
  },
  {
   "cell_type": "code",
   "execution_count": 16,
   "metadata": {},
   "outputs": [
    {
     "name": "stdout",
     "output_type": "stream",
     "text": [
      "Results of ADF Test for Price_WTI:\n",
      "Lag Used: 39\n",
      "ADF Statistic: -2.95351238478095\n",
      "p-value: 0.039469767446143\n",
      "Critical Values:\n",
      "   1%: -3.4313802276274816\n",
      "   5%: -2.861995270514118\n",
      "   10%: -2.5670123373798748\n",
      "The null hypothesis is rejected. Price_WTI is stationary.\n",
      "\n",
      "Results of ADF Test for Price_Brent:\n",
      "Lag Used: 32\n",
      "ADF Statistic: -2.574681359709517\n",
      "p-value: 0.0983438318740486\n",
      "Critical Values:\n",
      "   1%: -3.4313773143767716\n",
      "   5%: -2.861993983334536\n",
      "   10%: -2.5670116521846436\n",
      "Failed to reject the null hypothesis. Price_Brent is non-stationary.\n",
      "\n",
      "Results of ADF Test for Price_Dubai:\n",
      "Lag Used: 0\n",
      "ADF Statistic: -2.1653251285082478\n",
      "p-value: 0.21907019230407393\n",
      "Critical Values:\n",
      "   1%: -3.432807985211508\n",
      "   5%: -2.8626259540301553\n",
      "   10%: -2.5673480904338657\n",
      "Failed to reject the null hypothesis. Price_Dubai is non-stationary.\n",
      "\n"
     ]
    }
   ],
   "source": [
    "# Apply the function to each price column\n",
    "columns_to_test = ['Price_WTI', 'Price_Brent', 'Price_Dubai']\n",
    "\n",
    "for column in columns_to_test:\n",
    "    run_adf_test(COMBINED_DATA.loc[:,columns_to_test][column], column)"
   ]
  },
  {
   "cell_type": "markdown",
   "metadata": {},
   "source": [
    "The ADF test shows non-stationarity for all three oil futures. However, the Dubai oil futures again show irregularity, with a value of zero for 'Lag Used'. We will try the test again, but after dropping all rows with nan values."
   ]
  },
  {
   "cell_type": "code",
   "execution_count": 17,
   "metadata": {},
   "outputs": [
    {
     "name": "stdout",
     "output_type": "stream",
     "text": [
      "Results of ADF Test for Price_WTI:\n",
      "Lag Used: 3\n",
      "ADF Statistic: -2.4682616784605598\n",
      "p-value: 0.12338878643108453\n",
      "Critical Values:\n",
      "   1%: -3.432811686398781\n",
      "   5%: -2.8626275885637775\n",
      "   10%: -2.5673489606664854\n",
      "Failed to reject the null hypothesis. Price_WTI is non-stationary.\n",
      "\n",
      "Results of ADF Test for Price_Brent:\n",
      "Lag Used: 6\n",
      "ADF Statistic: -2.4123435455675115\n",
      "p-value: 0.13828279923331283\n",
      "Critical Values:\n",
      "   1%: -3.432814469612307\n",
      "   5%: -2.862628817696705\n",
      "   10%: -2.567349615062282\n",
      "Failed to reject the null hypothesis. Price_Brent is non-stationary.\n",
      "\n",
      "Results of ADF Test for Price_Dubai:\n",
      "Lag Used: 0\n",
      "ADF Statistic: -2.1649511474513803\n",
      "p-value: 0.2192111139143551\n",
      "Critical Values:\n",
      "   1%: -3.4328089094645335\n",
      "   5%: -2.8626263622027865\n",
      "   10%: -2.5673483077466708\n",
      "Failed to reject the null hypothesis. Price_Dubai is non-stationary.\n",
      "\n"
     ]
    }
   ],
   "source": [
    "# Apply the function to each price column\n",
    "columns_to_test = ['Price_WTI', 'Price_Brent', 'Price_Dubai']\n",
    "\n",
    "for column in columns_to_test:\n",
    "    run_adf_test(COMBINED_DATA.loc[:,columns_to_test].dropna()[column], column)"
   ]
  },
  {
   "cell_type": "markdown",
   "metadata": {},
   "source": [
    "Now, the three time series show similar lag values used for the ADF test. We note that we have found another irregularity with the Dubai time series, and we must decide whether to proceed with two options:\n",
    "\n",
    "1. Remove all pre-2014 data, and run the analysis on all three oil futures\n",
    "2. Remove the Dubai series and work only with the WTI and Brent futures\n",
    "3. Try to find more data for the Dubai series, pre-2014 (we are unsure whether this even exists)\n",
    "\n",
    "We decide to choose the first option, such that we may also used error correction models to observe cointegration relations between the three oil futures."
   ]
  },
  {
   "cell_type": "code",
   "execution_count": 21,
   "metadata": {},
   "outputs": [
    {
     "data": {
      "text/html": [
       "<div>\n",
       "<style scoped>\n",
       "    .dataframe tbody tr th:only-of-type {\n",
       "        vertical-align: middle;\n",
       "    }\n",
       "\n",
       "    .dataframe tbody tr th {\n",
       "        vertical-align: top;\n",
       "    }\n",
       "\n",
       "    .dataframe thead th {\n",
       "        text-align: right;\n",
       "    }\n",
       "</style>\n",
       "<table border=\"1\" class=\"dataframe\">\n",
       "  <thead>\n",
       "    <tr style=\"text-align: right;\">\n",
       "      <th></th>\n",
       "      <th>Change_WTI</th>\n",
       "      <th>Change_Brent</th>\n",
       "      <th>Change_Dubai</th>\n",
       "    </tr>\n",
       "  </thead>\n",
       "  <tbody>\n",
       "    <tr>\n",
       "      <th>0</th>\n",
       "      <td>0.0024</td>\n",
       "      <td>-0.0133</td>\n",
       "      <td>0.0000</td>\n",
       "    </tr>\n",
       "    <tr>\n",
       "      <th>1</th>\n",
       "      <td>0.0044</td>\n",
       "      <td>0.0080</td>\n",
       "      <td>0.0000</td>\n",
       "    </tr>\n",
       "    <tr>\n",
       "      <th>2</th>\n",
       "      <td>-0.0152</td>\n",
       "      <td>-0.0084</td>\n",
       "      <td>0.0000</td>\n",
       "    </tr>\n",
       "    <tr>\n",
       "      <th>3</th>\n",
       "      <td>-0.0032</td>\n",
       "      <td>-0.0029</td>\n",
       "      <td>0.0000</td>\n",
       "    </tr>\n",
       "    <tr>\n",
       "      <th>4</th>\n",
       "      <td>0.0034</td>\n",
       "      <td>0.0077</td>\n",
       "      <td>0.0000</td>\n",
       "    </tr>\n",
       "    <tr>\n",
       "      <th>...</th>\n",
       "      <td>...</td>\n",
       "      <td>...</td>\n",
       "      <td>...</td>\n",
       "    </tr>\n",
       "    <tr>\n",
       "      <th>2658</th>\n",
       "      <td>0.0163</td>\n",
       "      <td>0.0117</td>\n",
       "      <td>0.0032</td>\n",
       "    </tr>\n",
       "    <tr>\n",
       "      <th>2659</th>\n",
       "      <td>-0.0323</td>\n",
       "      <td>-0.0217</td>\n",
       "      <td>-0.0064</td>\n",
       "    </tr>\n",
       "    <tr>\n",
       "      <th>2660</th>\n",
       "      <td>-0.0025</td>\n",
       "      <td>-0.0027</td>\n",
       "      <td>0.0000</td>\n",
       "    </tr>\n",
       "    <tr>\n",
       "      <th>2661</th>\n",
       "      <td>-0.0007</td>\n",
       "      <td>0.0003</td>\n",
       "      <td>0.0000</td>\n",
       "    </tr>\n",
       "    <tr>\n",
       "      <th>2662</th>\n",
       "      <td>-0.0105</td>\n",
       "      <td>-0.0046</td>\n",
       "      <td>0.0003</td>\n",
       "    </tr>\n",
       "  </tbody>\n",
       "</table>\n",
       "<p>2663 rows × 3 columns</p>\n",
       "</div>"
      ],
      "text/plain": [
       "      Change_WTI  Change_Brent  Change_Dubai\n",
       "0         0.0024       -0.0133        0.0000\n",
       "1         0.0044        0.0080        0.0000\n",
       "2        -0.0152       -0.0084        0.0000\n",
       "3        -0.0032       -0.0029        0.0000\n",
       "4         0.0034        0.0077        0.0000\n",
       "...          ...           ...           ...\n",
       "2658      0.0163        0.0117        0.0032\n",
       "2659     -0.0323       -0.0217       -0.0064\n",
       "2660     -0.0025       -0.0027        0.0000\n",
       "2661     -0.0007        0.0003        0.0000\n",
       "2662     -0.0105       -0.0046        0.0003\n",
       "\n",
       "[2663 rows x 3 columns]"
      ]
     },
     "metadata": {},
     "output_type": "display_data"
    }
   ],
   "source": [
    "MODELING_DATA = (\n",
    "    COMBINED_DATA\n",
    "    .loc[:,['Change_WTI', 'Change_Brent', 'Change_Dubai']]\n",
    "    .dropna()\n",
    "    .reset_index(drop=True)\n",
    ")\n",
    "\n",
    "display(MODELING_DATA)"
   ]
  },
  {
   "cell_type": "markdown",
   "metadata": {},
   "source": [
    "### ARIMA Models"
   ]
  },
  {
   "cell_type": "markdown",
   "metadata": {},
   "source": [
    "First, we fit the simplest ARMA(1,1) with one autoregressive and one moving average term."
   ]
  },
  {
   "cell_type": "code",
   "execution_count": 36,
   "metadata": {},
   "outputs": [
    {
     "name": "stdout",
     "output_type": "stream",
     "text": [
      "\n",
      "Fitting ARIMA model for Change_WTI\n",
      "                               SARIMAX Results                                \n",
      "==============================================================================\n",
      "Dep. Variable:             Change_WTI   No. Observations:                 2663\n",
      "Model:                 ARIMA(1, 0, 1)   Log Likelihood                3442.658\n",
      "Date:                Mon, 16 Dec 2024   AIC                          -6877.315\n",
      "Time:                        09:13:48   BIC                          -6853.767\n",
      "Sample:                             0   HQIC                         -6868.793\n",
      "                               - 2663                                         \n",
      "Covariance Type:                  opg                                         \n",
      "==============================================================================\n",
      "                 coef    std err          z      P>|z|      [0.025      0.975]\n",
      "------------------------------------------------------------------------------\n",
      "const         -0.0012      0.004     -0.315      0.753      -0.008       0.006\n",
      "ar.L1         -0.1171      0.015     -7.839      0.000      -0.146      -0.088\n",
      "ma.L1          0.4621      0.013     35.912      0.000       0.437       0.487\n",
      "sigma2         0.0044   9.06e-06    486.920      0.000       0.004       0.004\n",
      "===================================================================================\n",
      "Ljung-Box (L1) (Q):                   0.05   Jarque-Bera (JB):         296698508.61\n",
      "Prob(Q):                              0.83   Prob(JB):                         0.00\n",
      "Heteroskedasticity (H):               0.82   Skew:                           -35.73\n",
      "Prob(H) (two-sided):                  0.00   Kurtosis:                      1636.66\n",
      "===================================================================================\n",
      "\n",
      "Warnings:\n",
      "[1] Covariance matrix calculated using the outer product of gradients (complex-step).\n"
     ]
    },
    {
     "data": {
      "image/png": "[encoded data removed]",
      "text/plain": [
       "<Figure size 640x480 with 1 Axes>"
      ]
     },
     "metadata": {},
     "output_type": "display_data"
    },
    {
     "name": "stdout",
     "output_type": "stream",
     "text": [
      "\n",
      "Fitting ARIMA model for Change_Brent\n",
      "                               SARIMAX Results                                \n",
      "==============================================================================\n",
      "Dep. Variable:           Change_Brent   No. Observations:                 2663\n",
      "Model:                 ARIMA(1, 0, 1)   Log Likelihood                6195.918\n",
      "Date:                Mon, 16 Dec 2024   AIC                         -12383.835\n",
      "Time:                        09:13:48   BIC                         -12360.286\n",
      "Sample:                             0   HQIC                        -12375.313\n",
      "                               - 2663                                         \n",
      "Covariance Type:                  opg                                         \n",
      "==============================================================================\n",
      "                 coef    std err          z      P>|z|      [0.025      0.975]\n",
      "------------------------------------------------------------------------------\n",
      "const          0.0002      0.000      0.375      0.708      -0.001       0.001\n",
      "ar.L1         -0.0077      0.918     -0.008      0.993      -1.808       1.793\n",
      "ma.L1         -0.0077      0.916     -0.008      0.993      -1.803       1.788\n",
      "sigma2         0.0006   6.96e-06     80.148      0.000       0.001       0.001\n",
      "===================================================================================\n",
      "Ljung-Box (L1) (Q):                   0.00   Jarque-Bera (JB):              9292.04\n",
      "Prob(Q):                              1.00   Prob(JB):                         0.00\n",
      "Heteroskedasticity (H):               0.85   Skew:                            -0.46\n",
      "Prob(H) (two-sided):                  0.02   Kurtosis:                        12.10\n",
      "===================================================================================\n",
      "\n",
      "Warnings:\n",
      "[1] Covariance matrix calculated using the outer product of gradients (complex-step)."
     ]
    },
    {
     "name": "stderr",
     "output_type": "stream",
     "text": [
      "c:\\Users\\berma\\Documents\\oil_futures_analysis\\.venv\\Lib\\site-packages\\statsmodels\\tsa\\statespace\\sarimax.py:966: UserWarning: Non-stationary starting autoregressive parameters found. Using zeros as starting parameters.\n",
      "  warn('Non-stationary starting autoregressive parameters'\n",
      "c:\\Users\\berma\\Documents\\oil_futures_analysis\\.venv\\Lib\\site-packages\\statsmodels\\tsa\\statespace\\sarimax.py:978: UserWarning: Non-invertible starting MA parameters found. Using zeros as starting parameters.\n",
      "  warn('Non-invertible starting MA parameters found.'\n"
     ]
    },
    {
     "name": "stdout",
     "output_type": "stream",
     "text": [
      "\n"
     ]
    },
    {
     "data": {
      "image/png": "[encoded data removed]",
      "text/plain": [
       "<Figure size 640x480 with 1 Axes>"
      ]
     },
     "metadata": {},
     "output_type": "display_data"
    },
    {
     "name": "stdout",
     "output_type": "stream",
     "text": [
      "\n",
      "Fitting ARIMA model for Change_Dubai\n",
      "                               SARIMAX Results                                \n",
      "==============================================================================\n",
      "Dep. Variable:           Change_Dubai   No. Observations:                 2663\n",
      "Model:                 ARIMA(1, 0, 1)   Log Likelihood                6445.330\n",
      "Date:                Mon, 16 Dec 2024   AIC                         -12882.659\n",
      "Time:                        09:13:48   BIC                         -12859.110\n",
      "Sample:                             0   HQIC                        -12874.137\n",
      "                               - 2663                                         \n",
      "Covariance Type:                  opg                                         \n",
      "==============================================================================\n",
      "                 coef    std err          z      P>|z|      [0.025      0.975]\n",
      "------------------------------------------------------------------------------\n",
      "const       9.857e-05      0.000      0.240      0.810      -0.001       0.001\n",
      "ar.L1         -0.0441      0.248     -0.178      0.859      -0.530       0.442\n",
      "ma.L1          0.0112      0.250      0.045      0.964      -0.478       0.500\n",
      "sigma2         0.0005   2.54e-06    182.060      0.000       0.000       0.000\n",
      "===================================================================================\n",
      "Ljung-Box (L1) (Q):                   0.00   Jarque-Bera (JB):            257849.05\n",
      "Prob(Q):                              1.00   Prob(JB):                         0.00\n",
      "Heteroskedasticity (H):               0.70   Skew:                            -0.65\n",
      "Prob(H) (two-sided):                  0.00   Kurtosis:                        51.19\n",
      "===================================================================================\n",
      "\n",
      "Warnings:\n",
      "[1] Covariance matrix calculated using the outer product of gradients (complex-step).\n"
     ]
    },
    {
     "data": {
      "image/png": "[encoded data removed]",
      "text/plain": [
       "<Figure size 640x480 with 1 Axes>"
      ]
     },
     "metadata": {},
     "output_type": "display_data"
    }
   ],
   "source": [
    "from statsmodels.tsa.arima.model import ARIMA\n",
    "\n",
    "\n",
    "# Function to check stationarity and fit ARIMA\n",
    "def fit_arima(series, order=(1, 0, 1)):\n",
    "    \n",
    "    # Fit ARIMA model\n",
    "    model = ARIMA(series, order=order)\n",
    "    model_fit = model.fit()\n",
    "    \n",
    "    return model_fit\n",
    "\n",
    "# Fitting ARIMA models to each column\n",
    "models = {}\n",
    "for column in ['Change_WTI', 'Change_Brent', 'Change_Dubai']:\n",
    "    print(f\"\\nFitting ARIMA model for {column}\")\n",
    "    model_fit = fit_arima(MODELING_DATA[column])\n",
    "    print(model_fit.summary())\n",
    "    model_fit.resid.plot()\n",
    "    plt.show()\n",
    "    models[column] = model_fit\n"
   ]
  },
  {
   "cell_type": "markdown",
   "metadata": {},
   "source": [
    "Discuss results:\n",
    "\n",
    "- Different Heteroskedasticity results\n",
    "- JB test all non normal\n",
    "\n",
    "Now, we choose a 'best' model using the Bayesian Information Criterion (BIC):\n",
    "*** BIC FORMULA ***"
   ]
  },
  {
   "cell_type": "code",
   "execution_count": 41,
   "metadata": {},
   "outputs": [
    {
     "name": "stdout",
     "output_type": "stream",
     "text": [
      "\n",
      "Fitting ARIMA model for Change_WTI\n",
      "Current Degree: [(1, 1)]\n",
      "Current Degree: [(1, 2)]\n",
      "Current Degree: [(1, 3)]\n",
      "Current Degree: [(1, 4)]\n"
     ]
    },
    {
     "name": "stderr",
     "output_type": "stream",
     "text": [
      "c:\\Users\\berma\\Documents\\oil_futures_analysis\\.venv\\Lib\\site-packages\\statsmodels\\base\\model.py:607: ConvergenceWarning: Maximum Likelihood optimization failed to converge. Check mle_retvals\n",
      "  warnings.warn(\"Maximum Likelihood optimization failed to \"\n"
     ]
    },
    {
     "name": "stdout",
     "output_type": "stream",
     "text": [
      "Current Degree: [(1, 5)]\n"
     ]
    },
    {
     "name": "stderr",
     "output_type": "stream",
     "text": [
      "c:\\Users\\berma\\Documents\\oil_futures_analysis\\.venv\\Lib\\site-packages\\statsmodels\\base\\model.py:607: ConvergenceWarning: Maximum Likelihood optimization failed to converge. Check mle_retvals\n",
      "  warnings.warn(\"Maximum Likelihood optimization failed to \"\n"
     ]
    },
    {
     "name": "stdout",
     "output_type": "stream",
     "text": [
      "Current Degree: [(2, 1)]\n",
      "Current Degree: [(2, 2)]\n",
      "Current Degree: [(2, 3)]\n"
     ]
    },
    {
     "name": "stderr",
     "output_type": "stream",
     "text": [
      "c:\\Users\\berma\\Documents\\oil_futures_analysis\\.venv\\Lib\\site-packages\\statsmodels\\base\\model.py:607: ConvergenceWarning: Maximum Likelihood optimization failed to converge. Check mle_retvals\n",
      "  warnings.warn(\"Maximum Likelihood optimization failed to \"\n"
     ]
    },
    {
     "name": "stdout",
     "output_type": "stream",
     "text": [
      "Current Degree: [(2, 4)]\n"
     ]
    },
    {
     "name": "stderr",
     "output_type": "stream",
     "text": [
      "c:\\Users\\berma\\Documents\\oil_futures_analysis\\.venv\\Lib\\site-packages\\statsmodels\\base\\model.py:607: ConvergenceWarning: Maximum Likelihood optimization failed to converge. Check mle_retvals\n",
      "  warnings.warn(\"Maximum Likelihood optimization failed to \"\n"
     ]
    },
    {
     "name": "stdout",
     "output_type": "stream",
     "text": [
      "Current Degree: [(2, 5)]\n"
     ]
    },
    {
     "name": "stderr",
     "output_type": "stream",
     "text": [
      "c:\\Users\\berma\\Documents\\oil_futures_analysis\\.venv\\Lib\\site-packages\\statsmodels\\base\\model.py:607: ConvergenceWarning: Maximum Likelihood optimization failed to converge. Check mle_retvals\n",
      "  warnings.warn(\"Maximum Likelihood optimization failed to \"\n"
     ]
    },
    {
     "name": "stdout",
     "output_type": "stream",
     "text": [
      "Current Degree: [(3, 1)]\n",
      "Current Degree: [(3, 2)]\n"
     ]
    },
    {
     "name": "stderr",
     "output_type": "stream",
     "text": [
      "c:\\Users\\berma\\Documents\\oil_futures_analysis\\.venv\\Lib\\site-packages\\statsmodels\\tsa\\statespace\\sarimax.py:966: UserWarning: Non-stationary starting autoregressive parameters found. Using zeros as starting parameters.\n",
      "  warn('Non-stationary starting autoregressive parameters'\n",
      "c:\\Users\\berma\\Documents\\oil_futures_analysis\\.venv\\Lib\\site-packages\\statsmodels\\base\\model.py:607: ConvergenceWarning: Maximum Likelihood optimization failed to converge. Check mle_retvals\n",
      "  warnings.warn(\"Maximum Likelihood optimization failed to \"\n"
     ]
    },
    {
     "name": "stdout",
     "output_type": "stream",
     "text": [
      "Current Degree: [(3, 3)]\n"
     ]
    },
    {
     "name": "stderr",
     "output_type": "stream",
     "text": [
      "c:\\Users\\berma\\Documents\\oil_futures_analysis\\.venv\\Lib\\site-packages\\statsmodels\\base\\model.py:607: ConvergenceWarning: Maximum Likelihood optimization failed to converge. Check mle_retvals\n",
      "  warnings.warn(\"Maximum Likelihood optimization failed to \"\n",
      "c:\\Users\\berma\\Documents\\oil_futures_analysis\\.venv\\Lib\\site-packages\\statsmodels\\tsa\\statespace\\sarimax.py:966: UserWarning: Non-stationary starting autoregressive parameters found. Using zeros as starting parameters.\n",
      "  warn('Non-stationary starting autoregressive parameters'\n",
      "c:\\Users\\berma\\Documents\\oil_futures_analysis\\.venv\\Lib\\site-packages\\statsmodels\\tsa\\statespace\\sarimax.py:978: UserWarning: Non-invertible starting MA parameters found. Using zeros as starting parameters.\n",
      "  warn('Non-invertible starting MA parameters found.'\n"
     ]
    },
    {
     "name": "stdout",
     "output_type": "stream",
     "text": [
      "Current Degree: [(3, 4)]\n"
     ]
    },
    {
     "name": "stderr",
     "output_type": "stream",
     "text": [
      "c:\\Users\\berma\\Documents\\oil_futures_analysis\\.venv\\Lib\\site-packages\\statsmodels\\base\\model.py:607: ConvergenceWarning: Maximum Likelihood optimization failed to converge. Check mle_retvals\n",
      "  warnings.warn(\"Maximum Likelihood optimization failed to \"\n"
     ]
    },
    {
     "name": "stdout",
     "output_type": "stream",
     "text": [
      "Current Degree: [(3, 5)]\n"
     ]
    },
    {
     "name": "stderr",
     "output_type": "stream",
     "text": [
      "c:\\Users\\berma\\Documents\\oil_futures_analysis\\.venv\\Lib\\site-packages\\statsmodels\\base\\model.py:607: ConvergenceWarning: Maximum Likelihood optimization failed to converge. Check mle_retvals\n",
      "  warnings.warn(\"Maximum Likelihood optimization failed to \"\n"
     ]
    },
    {
     "name": "stdout",
     "output_type": "stream",
     "text": [
      "Current Degree: [(4, 1)]\n"
     ]
    },
    {
     "name": "stderr",
     "output_type": "stream",
     "text": [
      "c:\\Users\\berma\\Documents\\oil_futures_analysis\\.venv\\Lib\\site-packages\\statsmodels\\base\\model.py:607: ConvergenceWarning: Maximum Likelihood optimization failed to converge. Check mle_retvals\n",
      "  warnings.warn(\"Maximum Likelihood optimization failed to \"\n"
     ]
    },
    {
     "name": "stdout",
     "output_type": "stream",
     "text": [
      "Current Degree: [(4, 2)]\n"
     ]
    },
    {
     "name": "stderr",
     "output_type": "stream",
     "text": [
      "c:\\Users\\berma\\Documents\\oil_futures_analysis\\.venv\\Lib\\site-packages\\statsmodels\\base\\model.py:607: ConvergenceWarning: Maximum Likelihood optimization failed to converge. Check mle_retvals\n",
      "  warnings.warn(\"Maximum Likelihood optimization failed to \"\n"
     ]
    },
    {
     "name": "stdout",
     "output_type": "stream",
     "text": [
      "Current Degree: [(4, 3)]\n"
     ]
    },
    {
     "name": "stderr",
     "output_type": "stream",
     "text": [
      "c:\\Users\\berma\\Documents\\oil_futures_analysis\\.venv\\Lib\\site-packages\\statsmodels\\base\\model.py:607: ConvergenceWarning: Maximum Likelihood optimization failed to converge. Check mle_retvals\n",
      "  warnings.warn(\"Maximum Likelihood optimization failed to \"\n",
      "c:\\Users\\berma\\Documents\\oil_futures_analysis\\.venv\\Lib\\site-packages\\statsmodels\\tsa\\statespace\\sarimax.py:966: UserWarning: Non-stationary starting autoregressive parameters found. Using zeros as starting parameters.\n",
      "  warn('Non-stationary starting autoregressive parameters'\n",
      "c:\\Users\\berma\\Documents\\oil_futures_analysis\\.venv\\Lib\\site-packages\\statsmodels\\tsa\\statespace\\sarimax.py:978: UserWarning: Non-invertible starting MA parameters found. Using zeros as starting parameters.\n",
      "  warn('Non-invertible starting MA parameters found.'\n"
     ]
    },
    {
     "name": "stdout",
     "output_type": "stream",
     "text": [
      "Current Degree: [(4, 4)]\n"
     ]
    },
    {
     "name": "stderr",
     "output_type": "stream",
     "text": [
      "c:\\Users\\berma\\Documents\\oil_futures_analysis\\.venv\\Lib\\site-packages\\statsmodels\\base\\model.py:607: ConvergenceWarning: Maximum Likelihood optimization failed to converge. Check mle_retvals\n",
      "  warnings.warn(\"Maximum Likelihood optimization failed to \"\n"
     ]
    },
    {
     "name": "stdout",
     "output_type": "stream",
     "text": [
      "Current Degree: [(4, 5)]\n"
     ]
    },
    {
     "name": "stderr",
     "output_type": "stream",
     "text": [
      "c:\\Users\\berma\\Documents\\oil_futures_analysis\\.venv\\Lib\\site-packages\\statsmodels\\base\\model.py:607: ConvergenceWarning: Maximum Likelihood optimization failed to converge. Check mle_retvals\n",
      "  warnings.warn(\"Maximum Likelihood optimization failed to \"\n"
     ]
    },
    {
     "name": "stdout",
     "output_type": "stream",
     "text": [
      "Current Degree: [(5, 1)]\n",
      "Current Degree: [(5, 2)]\n"
     ]
    },
    {
     "name": "stderr",
     "output_type": "stream",
     "text": [
      "c:\\Users\\berma\\Documents\\oil_futures_analysis\\.venv\\Lib\\site-packages\\statsmodels\\base\\model.py:607: ConvergenceWarning: Maximum Likelihood optimization failed to converge. Check mle_retvals\n",
      "  warnings.warn(\"Maximum Likelihood optimization failed to \"\n",
      "c:\\Users\\berma\\Documents\\oil_futures_analysis\\.venv\\Lib\\site-packages\\statsmodels\\tsa\\statespace\\sarimax.py:966: UserWarning: Non-stationary starting autoregressive parameters found. Using zeros as starting parameters.\n",
      "  warn('Non-stationary starting autoregressive parameters'\n",
      "c:\\Users\\berma\\Documents\\oil_futures_analysis\\.venv\\Lib\\site-packages\\statsmodels\\tsa\\statespace\\sarimax.py:978: UserWarning: Non-invertible starting MA parameters found. Using zeros as starting parameters.\n",
      "  warn('Non-invertible starting MA parameters found.'\n"
     ]
    },
    {
     "name": "stdout",
     "output_type": "stream",
     "text": [
      "Current Degree: [(5, 3)]\n"
     ]
    },
    {
     "name": "stderr",
     "output_type": "stream",
     "text": [
      "c:\\Users\\berma\\Documents\\oil_futures_analysis\\.venv\\Lib\\site-packages\\statsmodels\\base\\model.py:607: ConvergenceWarning: Maximum Likelihood optimization failed to converge. Check mle_retvals\n",
      "  warnings.warn(\"Maximum Likelihood optimization failed to \"\n",
      "c:\\Users\\berma\\Documents\\oil_futures_analysis\\.venv\\Lib\\site-packages\\statsmodels\\tsa\\statespace\\sarimax.py:966: UserWarning: Non-stationary starting autoregressive parameters found. Using zeros as starting parameters.\n",
      "  warn('Non-stationary starting autoregressive parameters'\n",
      "c:\\Users\\berma\\Documents\\oil_futures_analysis\\.venv\\Lib\\site-packages\\statsmodels\\tsa\\statespace\\sarimax.py:978: UserWarning: Non-invertible starting MA parameters found. Using zeros as starting parameters.\n",
      "  warn('Non-invertible starting MA parameters found.'\n"
     ]
    },
    {
     "name": "stdout",
     "output_type": "stream",
     "text": [
      "Current Degree: [(5, 4)]\n"
     ]
    },
    {
     "name": "stderr",
     "output_type": "stream",
     "text": [
      "c:\\Users\\berma\\Documents\\oil_futures_analysis\\.venv\\Lib\\site-packages\\statsmodels\\base\\model.py:607: ConvergenceWarning: Maximum Likelihood optimization failed to converge. Check mle_retvals\n",
      "  warnings.warn(\"Maximum Likelihood optimization failed to \"\n"
     ]
    },
    {
     "name": "stdout",
     "output_type": "stream",
     "text": [
      "Current Degree: [(5, 5)]\n"
     ]
    },
    {
     "name": "stderr",
     "output_type": "stream",
     "text": [
      "c:\\Users\\berma\\Documents\\oil_futures_analysis\\.venv\\Lib\\site-packages\\statsmodels\\base\\model.py:607: ConvergenceWarning: Maximum Likelihood optimization failed to converge. Check mle_retvals\n",
      "  warnings.warn(\"Maximum Likelihood optimization failed to \"\n",
      "c:\\Users\\berma\\Documents\\oil_futures_analysis\\.venv\\Lib\\site-packages\\statsmodels\\tsa\\statespace\\sarimax.py:966: UserWarning: Non-stationary starting autoregressive parameters found. Using zeros as starting parameters.\n",
      "  warn('Non-stationary starting autoregressive parameters'\n",
      "c:\\Users\\berma\\Documents\\oil_futures_analysis\\.venv\\Lib\\site-packages\\statsmodels\\tsa\\statespace\\sarimax.py:978: UserWarning: Non-invertible starting MA parameters found. Using zeros as starting parameters.\n",
      "  warn('Non-invertible starting MA parameters found.'\n"
     ]
    },
    {
     "name": "stdout",
     "output_type": "stream",
     "text": [
      "                               SARIMAX Results                                \n",
      "==============================================================================\n",
      "Dep. Variable:             Change_WTI   No. Observations:                 2663\n",
      "Model:                 ARIMA(2, 0, 3)   Log Likelihood                3461.562\n",
      "Date:                Mon, 16 Dec 2024   AIC                          -6909.124\n",
      "Time:                        09:16:17   BIC                          -6867.914\n",
      "Sample:                             0   HQIC                         -6894.211\n",
      "                               - 2663                                         \n",
      "Covariance Type:                  opg                                         \n",
      "==============================================================================\n",
      "                 coef    std err          z      P>|z|      [0.025      0.975]\n",
      "------------------------------------------------------------------------------\n",
      "const         -0.0014      0.004     -0.381      0.703      -0.008       0.006\n",
      "ar.L1          0.3620      0.053      6.888      0.000       0.259       0.465\n",
      "ar.L2         -0.7740      0.045    -17.266      0.000      -0.862      -0.686\n",
      "ma.L1         -0.0253      0.054     -0.472      0.637      -0.130       0.080\n",
      "ma.L2          0.5839      0.044     13.360      0.000       0.498       0.670\n",
      "ma.L3          0.2132      0.024      9.049      0.000       0.167       0.259\n",
      "sigma2         0.0043   9.96e-06    435.216      0.000       0.004       0.004\n",
      "===================================================================================\n",
      "Ljung-Box (L1) (Q):                   0.00   Jarque-Bera (JB):         304701652.13\n",
      "Prob(Q):                              0.95   Prob(JB):                         0.00\n",
      "Heteroskedasticity (H):               0.83   Skew:                           -36.13\n",
      "Prob(H) (two-sided):                  0.01   Kurtosis:                      1658.56\n",
      "===================================================================================\n",
      "\n",
      "Warnings:\n",
      "[1] Covariance matrix calculated using the outer product of gradients (complex-step).\n",
      "\n",
      "Fitting ARIMA model for Change_Brent\n",
      "Current Degree: [(1, 1)]\n",
      "Current Degree: [(1, 2)]\n",
      "Current Degree: [(1, 3)]\n",
      "Current Degree: [(1, 4)]\n",
      "Current Degree: [(1, 5)]\n",
      "Current Degree: [(2, 1)]\n"
     ]
    },
    {
     "name": "stderr",
     "output_type": "stream",
     "text": [
      "c:\\Users\\berma\\Documents\\oil_futures_analysis\\.venv\\Lib\\site-packages\\statsmodels\\tsa\\statespace\\sarimax.py:966: UserWarning: Non-stationary starting autoregressive parameters found. Using zeros as starting parameters.\n",
      "  warn('Non-stationary starting autoregressive parameters'\n",
      "c:\\Users\\berma\\Documents\\oil_futures_analysis\\.venv\\Lib\\site-packages\\statsmodels\\tsa\\statespace\\sarimax.py:978: UserWarning: Non-invertible starting MA parameters found. Using zeros as starting parameters.\n",
      "  warn('Non-invertible starting MA parameters found.'\n"
     ]
    },
    {
     "name": "stdout",
     "output_type": "stream",
     "text": [
      "Current Degree: [(2, 2)]\n"
     ]
    },
    {
     "name": "stderr",
     "output_type": "stream",
     "text": [
      "c:\\Users\\berma\\Documents\\oil_futures_analysis\\.venv\\Lib\\site-packages\\statsmodels\\tsa\\statespace\\sarimax.py:966: UserWarning: Non-stationary starting autoregressive parameters found. Using zeros as starting parameters.\n",
      "  warn('Non-stationary starting autoregressive parameters'\n",
      "c:\\Users\\berma\\Documents\\oil_futures_analysis\\.venv\\Lib\\site-packages\\statsmodels\\tsa\\statespace\\sarimax.py:978: UserWarning: Non-invertible starting MA parameters found. Using zeros as starting parameters.\n",
      "  warn('Non-invertible starting MA parameters found.'\n"
     ]
    },
    {
     "name": "stdout",
     "output_type": "stream",
     "text": [
      "Current Degree: [(2, 3)]\n",
      "Current Degree: [(2, 4)]\n",
      "Current Degree: [(2, 5)]\n",
      "Current Degree: [(3, 1)]\n",
      "Current Degree: [(3, 2)]\n",
      "Current Degree: [(3, 3)]\n",
      "Current Degree: [(3, 4)]\n",
      "Current Degree: [(3, 5)]\n",
      "Current Degree: [(4, 1)]\n",
      "Current Degree: [(4, 2)]\n"
     ]
    },
    {
     "name": "stderr",
     "output_type": "stream",
     "text": [
      "c:\\Users\\berma\\Documents\\oil_futures_analysis\\.venv\\Lib\\site-packages\\statsmodels\\base\\model.py:607: ConvergenceWarning: Maximum Likelihood optimization failed to converge. Check mle_retvals\n",
      "  warnings.warn(\"Maximum Likelihood optimization failed to \"\n"
     ]
    },
    {
     "name": "stdout",
     "output_type": "stream",
     "text": [
      "Current Degree: [(4, 3)]\n",
      "Current Degree: [(4, 4)]\n",
      "Current Degree: [(4, 5)]\n",
      "Current Degree: [(5, 1)]\n",
      "Current Degree: [(5, 2)]\n"
     ]
    },
    {
     "name": "stderr",
     "output_type": "stream",
     "text": [
      "c:\\Users\\berma\\Documents\\oil_futures_analysis\\.venv\\Lib\\site-packages\\statsmodels\\base\\model.py:607: ConvergenceWarning: Maximum Likelihood optimization failed to converge. Check mle_retvals\n",
      "  warnings.warn(\"Maximum Likelihood optimization failed to \"\n",
      "c:\\Users\\berma\\Documents\\oil_futures_analysis\\.venv\\Lib\\site-packages\\statsmodels\\tsa\\statespace\\sarimax.py:966: UserWarning: Non-stationary starting autoregressive parameters found. Using zeros as starting parameters.\n",
      "  warn('Non-stationary starting autoregressive parameters'\n",
      "c:\\Users\\berma\\Documents\\oil_futures_analysis\\.venv\\Lib\\site-packages\\statsmodels\\tsa\\statespace\\sarimax.py:978: UserWarning: Non-invertible starting MA parameters found. Using zeros as starting parameters.\n",
      "  warn('Non-invertible starting MA parameters found.'\n"
     ]
    },
    {
     "name": "stdout",
     "output_type": "stream",
     "text": [
      "Current Degree: [(5, 3)]\n",
      "Current Degree: [(5, 4)]\n"
     ]
    },
    {
     "name": "stderr",
     "output_type": "stream",
     "text": [
      "c:\\Users\\berma\\Documents\\oil_futures_analysis\\.venv\\Lib\\site-packages\\statsmodels\\tsa\\statespace\\sarimax.py:966: UserWarning: Non-stationary starting autoregressive parameters found. Using zeros as starting parameters.\n",
      "  warn('Non-stationary starting autoregressive parameters'\n",
      "c:\\Users\\berma\\Documents\\oil_futures_analysis\\.venv\\Lib\\site-packages\\statsmodels\\tsa\\statespace\\sarimax.py:978: UserWarning: Non-invertible starting MA parameters found. Using zeros as starting parameters.\n",
      "  warn('Non-invertible starting MA parameters found.'\n"
     ]
    },
    {
     "name": "stdout",
     "output_type": "stream",
     "text": [
      "Current Degree: [(5, 5)]\n",
      "                               SARIMAX Results                                \n",
      "==============================================================================\n",
      "Dep. Variable:           Change_Brent   No. Observations:                 2663\n",
      "Model:                 ARIMA(1, 0, 1)   Log Likelihood                6195.918\n",
      "Date:                Mon, 16 Dec 2024   AIC                         -12383.835\n",
      "Time:                        09:16:41   BIC                         -12360.286\n",
      "Sample:                             0   HQIC                        -12375.313\n",
      "                               - 2663                                         \n",
      "Covariance Type:                  opg                                         \n",
      "==============================================================================\n",
      "                 coef    std err          z      P>|z|      [0.025      0.975]\n",
      "------------------------------------------------------------------------------\n",
      "const          0.0002      0.000      0.375      0.708      -0.001       0.001\n",
      "ar.L1         -0.0077      0.918     -0.008      0.993      -1.808       1.793\n",
      "ma.L1         -0.0077      0.916     -0.008      0.993      -1.803       1.788\n",
      "sigma2         0.0006   6.96e-06     80.148      0.000       0.001       0.001\n",
      "===================================================================================\n",
      "Ljung-Box (L1) (Q):                   0.00   Jarque-Bera (JB):              9292.04\n",
      "Prob(Q):                              1.00   Prob(JB):                         0.00\n",
      "Heteroskedasticity (H):               0.85   Skew:                            -0.46\n",
      "Prob(H) (two-sided):                  0.02   Kurtosis:                        12.10\n",
      "===================================================================================\n",
      "\n",
      "Warnings:\n",
      "[1] Covariance matrix calculated using the outer product of gradients (complex-step).\n",
      "\n",
      "Fitting ARIMA model for Change_Dubai\n",
      "Current Degree: [(1, 1)]\n",
      "Current Degree: [(1, 2)]\n"
     ]
    },
    {
     "name": "stderr",
     "output_type": "stream",
     "text": [
      "c:\\Users\\berma\\Documents\\oil_futures_analysis\\.venv\\Lib\\site-packages\\statsmodels\\base\\model.py:607: ConvergenceWarning: Maximum Likelihood optimization failed to converge. Check mle_retvals\n",
      "  warnings.warn(\"Maximum Likelihood optimization failed to \"\n"
     ]
    },
    {
     "name": "stdout",
     "output_type": "stream",
     "text": [
      "Current Degree: [(1, 3)]\n"
     ]
    },
    {
     "name": "stderr",
     "output_type": "stream",
     "text": [
      "c:\\Users\\berma\\Documents\\oil_futures_analysis\\.venv\\Lib\\site-packages\\statsmodels\\base\\model.py:607: ConvergenceWarning: Maximum Likelihood optimization failed to converge. Check mle_retvals\n",
      "  warnings.warn(\"Maximum Likelihood optimization failed to \"\n"
     ]
    },
    {
     "name": "stdout",
     "output_type": "stream",
     "text": [
      "Current Degree: [(1, 4)]\n",
      "Current Degree: [(1, 5)]\n",
      "Current Degree: [(2, 1)]\n"
     ]
    },
    {
     "name": "stderr",
     "output_type": "stream",
     "text": [
      "c:\\Users\\berma\\Documents\\oil_futures_analysis\\.venv\\Lib\\site-packages\\statsmodels\\tsa\\statespace\\sarimax.py:966: UserWarning: Non-stationary starting autoregressive parameters found. Using zeros as starting parameters.\n",
      "  warn('Non-stationary starting autoregressive parameters'\n",
      "c:\\Users\\berma\\Documents\\oil_futures_analysis\\.venv\\Lib\\site-packages\\statsmodels\\tsa\\statespace\\sarimax.py:978: UserWarning: Non-invertible starting MA parameters found. Using zeros as starting parameters.\n",
      "  warn('Non-invertible starting MA parameters found.'\n"
     ]
    },
    {
     "name": "stdout",
     "output_type": "stream",
     "text": [
      "Current Degree: [(2, 2)]\n",
      "Current Degree: [(2, 3)]\n",
      "Current Degree: [(2, 4)]\n"
     ]
    },
    {
     "name": "stderr",
     "output_type": "stream",
     "text": [
      "c:\\Users\\berma\\Documents\\oil_futures_analysis\\.venv\\Lib\\site-packages\\statsmodels\\tsa\\statespace\\sarimax.py:966: UserWarning: Non-stationary starting autoregressive parameters found. Using zeros as starting parameters.\n",
      "  warn('Non-stationary starting autoregressive parameters'\n",
      "c:\\Users\\berma\\Documents\\oil_futures_analysis\\.venv\\Lib\\site-packages\\statsmodels\\tsa\\statespace\\sarimax.py:978: UserWarning: Non-invertible starting MA parameters found. Using zeros as starting parameters.\n",
      "  warn('Non-invertible starting MA parameters found.'\n"
     ]
    },
    {
     "name": "stdout",
     "output_type": "stream",
     "text": [
      "Current Degree: [(2, 5)]\n",
      "Current Degree: [(3, 1)]\n",
      "Current Degree: [(3, 2)]\n"
     ]
    },
    {
     "name": "stderr",
     "output_type": "stream",
     "text": [
      "c:\\Users\\berma\\Documents\\oil_futures_analysis\\.venv\\Lib\\site-packages\\statsmodels\\tsa\\statespace\\sarimax.py:966: UserWarning: Non-stationary starting autoregressive parameters found. Using zeros as starting parameters.\n",
      "  warn('Non-stationary starting autoregressive parameters'\n",
      "c:\\Users\\berma\\Documents\\oil_futures_analysis\\.venv\\Lib\\site-packages\\statsmodels\\tsa\\statespace\\sarimax.py:978: UserWarning: Non-invertible starting MA parameters found. Using zeros as starting parameters.\n",
      "  warn('Non-invertible starting MA parameters found.'\n"
     ]
    },
    {
     "name": "stdout",
     "output_type": "stream",
     "text": [
      "Current Degree: [(3, 3)]\n"
     ]
    },
    {
     "name": "stderr",
     "output_type": "stream",
     "text": [
      "c:\\Users\\berma\\Documents\\oil_futures_analysis\\.venv\\Lib\\site-packages\\statsmodels\\tsa\\statespace\\sarimax.py:966: UserWarning: Non-stationary starting autoregressive parameters found. Using zeros as starting parameters.\n",
      "  warn('Non-stationary starting autoregressive parameters'\n",
      "c:\\Users\\berma\\Documents\\oil_futures_analysis\\.venv\\Lib\\site-packages\\statsmodels\\tsa\\statespace\\sarimax.py:978: UserWarning: Non-invertible starting MA parameters found. Using zeros as starting parameters.\n",
      "  warn('Non-invertible starting MA parameters found.'\n"
     ]
    },
    {
     "name": "stdout",
     "output_type": "stream",
     "text": [
      "Current Degree: [(3, 4)]\n"
     ]
    },
    {
     "name": "stderr",
     "output_type": "stream",
     "text": [
      "c:\\Users\\berma\\Documents\\oil_futures_analysis\\.venv\\Lib\\site-packages\\statsmodels\\base\\model.py:607: ConvergenceWarning: Maximum Likelihood optimization failed to converge. Check mle_retvals\n",
      "  warnings.warn(\"Maximum Likelihood optimization failed to \"\n"
     ]
    },
    {
     "name": "stdout",
     "output_type": "stream",
     "text": [
      "Current Degree: [(3, 5)]\n",
      "Current Degree: [(4, 1)]\n",
      "Current Degree: [(4, 2)]\n",
      "Current Degree: [(4, 3)]\n"
     ]
    },
    {
     "name": "stderr",
     "output_type": "stream",
     "text": [
      "c:\\Users\\berma\\Documents\\oil_futures_analysis\\.venv\\Lib\\site-packages\\statsmodels\\base\\model.py:607: ConvergenceWarning: Maximum Likelihood optimization failed to converge. Check mle_retvals\n",
      "  warnings.warn(\"Maximum Likelihood optimization failed to \"\n",
      "c:\\Users\\berma\\Documents\\oil_futures_analysis\\.venv\\Lib\\site-packages\\statsmodels\\tsa\\statespace\\sarimax.py:966: UserWarning: Non-stationary starting autoregressive parameters found. Using zeros as starting parameters.\n",
      "  warn('Non-stationary starting autoregressive parameters'\n",
      "c:\\Users\\berma\\Documents\\oil_futures_analysis\\.venv\\Lib\\site-packages\\statsmodels\\tsa\\statespace\\sarimax.py:978: UserWarning: Non-invertible starting MA parameters found. Using zeros as starting parameters.\n",
      "  warn('Non-invertible starting MA parameters found.'\n"
     ]
    },
    {
     "name": "stdout",
     "output_type": "stream",
     "text": [
      "Current Degree: [(4, 4)]\n",
      "Current Degree: [(4, 5)]\n",
      "Current Degree: [(5, 1)]\n"
     ]
    },
    {
     "name": "stderr",
     "output_type": "stream",
     "text": [
      "c:\\Users\\berma\\Documents\\oil_futures_analysis\\.venv\\Lib\\site-packages\\statsmodels\\base\\model.py:607: ConvergenceWarning: Maximum Likelihood optimization failed to converge. Check mle_retvals\n",
      "  warnings.warn(\"Maximum Likelihood optimization failed to \"\n"
     ]
    },
    {
     "name": "stdout",
     "output_type": "stream",
     "text": [
      "Current Degree: [(5, 2)]\n",
      "Current Degree: [(5, 3)]\n"
     ]
    },
    {
     "name": "stderr",
     "output_type": "stream",
     "text": [
      "c:\\Users\\berma\\Documents\\oil_futures_analysis\\.venv\\Lib\\site-packages\\statsmodels\\tsa\\statespace\\sarimax.py:966: UserWarning: Non-stationary starting autoregressive parameters found. Using zeros as starting parameters.\n",
      "  warn('Non-stationary starting autoregressive parameters'\n",
      "c:\\Users\\berma\\Documents\\oil_futures_analysis\\.venv\\Lib\\site-packages\\statsmodels\\tsa\\statespace\\sarimax.py:978: UserWarning: Non-invertible starting MA parameters found. Using zeros as starting parameters.\n",
      "  warn('Non-invertible starting MA parameters found.'\n"
     ]
    },
    {
     "name": "stdout",
     "output_type": "stream",
     "text": [
      "Current Degree: [(5, 4)]\n"
     ]
    },
    {
     "name": "stderr",
     "output_type": "stream",
     "text": [
      "c:\\Users\\berma\\Documents\\oil_futures_analysis\\.venv\\Lib\\site-packages\\statsmodels\\tsa\\statespace\\sarimax.py:966: UserWarning: Non-stationary starting autoregressive parameters found. Using zeros as starting parameters.\n",
      "  warn('Non-stationary starting autoregressive parameters'\n",
      "c:\\Users\\berma\\Documents\\oil_futures_analysis\\.venv\\Lib\\site-packages\\statsmodels\\tsa\\statespace\\sarimax.py:978: UserWarning: Non-invertible starting MA parameters found. Using zeros as starting parameters.\n",
      "  warn('Non-invertible starting MA parameters found.'\n"
     ]
    },
    {
     "name": "stdout",
     "output_type": "stream",
     "text": [
      "Current Degree: [(5, 5)]\n"
     ]
    },
    {
     "name": "stderr",
     "output_type": "stream",
     "text": [
      "c:\\Users\\berma\\Documents\\oil_futures_analysis\\.venv\\Lib\\site-packages\\statsmodels\\tsa\\statespace\\sarimax.py:966: UserWarning: Non-stationary starting autoregressive parameters found. Using zeros as starting parameters.\n",
      "  warn('Non-stationary starting autoregressive parameters'\n",
      "c:\\Users\\berma\\Documents\\oil_futures_analysis\\.venv\\Lib\\site-packages\\statsmodels\\tsa\\statespace\\sarimax.py:978: UserWarning: Non-invertible starting MA parameters found. Using zeros as starting parameters.\n",
      "  warn('Non-invertible starting MA parameters found.'\n"
     ]
    },
    {
     "name": "stdout",
     "output_type": "stream",
     "text": [
      "                               SARIMAX Results                                \n",
      "==============================================================================\n",
      "Dep. Variable:           Change_Dubai   No. Observations:                 2663\n",
      "Model:                 ARIMA(1, 0, 2)   Log Likelihood                6453.243\n",
      "Date:                Mon, 16 Dec 2024   AIC                         -12896.487\n",
      "Time:                        09:17:02   BIC                         -12867.051\n",
      "Sample:                             0   HQIC                        -12885.835\n",
      "                               - 2663                                         \n",
      "Covariance Type:                  opg                                         \n",
      "==============================================================================\n",
      "                 coef    std err          z      P>|z|      [0.025      0.975]\n",
      "------------------------------------------------------------------------------\n",
      "const       9.784e-05      0.001      0.147      0.883      -0.001       0.001\n",
      "ar.L1          0.9455      0.017     55.239      0.000       0.912       0.979\n",
      "ma.L1         -0.9863      0.019    -51.312      0.000      -1.024      -0.949\n",
      "ma.L2          0.0629      0.008      7.790      0.000       0.047       0.079\n",
      "sigma2         0.0005   2.59e-06    177.278      0.000       0.000       0.000\n",
      "===================================================================================\n",
      "Ljung-Box (L1) (Q):                   0.01   Jarque-Bera (JB):            253521.21\n",
      "Prob(Q):                              0.93   Prob(JB):                         0.00\n",
      "Heteroskedasticity (H):               0.71   Skew:                            -0.52\n",
      "Prob(H) (two-sided):                  0.00   Kurtosis:                        50.79\n",
      "===================================================================================\n",
      "\n",
      "Warnings:\n",
      "[1] Covariance matrix calculated using the outer product of gradients (complex-step).\n"
     ]
    }
   ],
   "source": [
    "\n",
    "def fit_arima_bic(series, max_degree=5):\n",
    "    best_bic = np.inf\n",
    "    best_model = None\n",
    "\n",
    "    for degree_ar in range(1, max_degree + 1):\n",
    "        for degree_ma in range(1, max_degree + 1):\n",
    "            print(f'Current Degree: [({degree_ar}, {degree_ma})]')\n",
    "            current_model = fit_arima(series, order=(degree_ar, 0, degree_ma))\n",
    "            if current_model.bic < best_bic:\n",
    "                best_bic = current_model.bic\n",
    "                best_model = current_model\n",
    "\n",
    "    return best_model\n",
    "\n",
    "\n",
    "# Fitting ARIMA models to each column\n",
    "models = {}\n",
    "for column in ['Change_WTI', 'Change_Brent', 'Change_Dubai']:\n",
    "    print(f\"\\nFitting ARIMA model for {column}\")\n",
    "    model_fit = fit_arima_bic(MODELING_DATA[column])\n",
    "    print(model_fit.summary())\n",
    "    models[column] = model_fit"
   ]
  }
 ],
 "metadata": {
  "kernelspec": {
   "display_name": ".venv",
   "language": "python",
   "name": "python3"
  },
  "language_info": {
   "codemirror_mode": {
    "name": "ipython",
    "version": 3
   },
   "file_extension": ".py",
   "mimetype": "text/x-python",
   "name": "python",
   "nbconvert_exporter": "python",
   "pygments_lexer": "ipython3",
   "version": "3.12.0"
  }
 },
 "nbformat": 4,
 "nbformat_minor": 2
}
