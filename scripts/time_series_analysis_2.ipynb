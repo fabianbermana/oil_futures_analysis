{
 "cells": [
  {
   "cell_type": "markdown",
   "metadata": {},
   "source": [
    "# Time Series Analysis - Part 2\n",
    "\n",
    "Now that we have estimated ARMA models using our oil price futures, we look at more advanced time series models. In the time_series_analysis_1 notebook, we observed that the residuals of the individual oil futures prices do not have homoskedastic residuals. This motivates the use of (G)ARCH models, which are used to model time series with time-varying volatility and volatility clustering. "
   ]
  },
  {
   "cell_type": "markdown",
   "metadata": {},
   "source": [
    "### (G)ARCH Models\n",
    "Financial time series of often exhibits heteroskedastic errors. The variance at time $t$ is often related to the squares of previous errors.\n",
    "\n",
    "The ARCH (Autoregressive Conditional Heteroskedasticity) model is appropriate when the error variance follows an AR model. Meanwhile, the GARCH (Generalized ARCH) model uses an ARMA model for the error variance. "
   ]
  },
  {
   "cell_type": "code",
   "execution_count": null,
   "metadata": {
    "vscode": {
     "languageId": "plaintext"
    }
   },
   "outputs": [],
   "source": []
  }
 ],
 "metadata": {
  "language_info": {
   "name": "python"
  }
 },
 "nbformat": 4,
 "nbformat_minor": 2
}
